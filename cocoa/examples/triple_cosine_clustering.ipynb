{
 "cells": [
  {
   "attachments": {},
   "cell_type": "markdown",
   "metadata": {},
   "source": [
    "### Connectivity co-clustering example\n",
    "\n",
    "In this example we will co-cluster neurons from three hemispheres:\n",
    "1. FlyWire left\n",
    "2. FlyWire right \n",
    "3. hemibrain right\n",
    "\n",
    "Some notes:\n",
    "- we're using a local copy of the edge list for FlyWire; this speeds things up \n",
    "  considerably but is not strictly necessary - if you remove the `file` argument \n",
    "  `cocoa` will instead fetch connectivity via the CAVE client \n",
    "  "
   ]
  },
  {
   "cell_type": "code",
   "execution_count": 1,
   "metadata": {},
   "outputs": [],
   "source": [
    "import cocoa as cc"
   ]
  },
  {
   "cell_type": "code",
   "execution_count": 2,
   "metadata": {},
   "outputs": [
    {
     "data": {
      "text/plain": [
       "(class FlyWire <label=FlyWire_RHS;neurons=0>,\n",
       " class FlyWire <label=FlyWire_LHS;neurons=0>,\n",
       " class Hemibrain <label=hemibrain;neurons=0>)"
      ]
     },
     "execution_count": 2,
     "metadata": {},
     "output_type": "execute_result"
    }
   ],
   "source": [
    "# Here we define our three datasets\n",
    "ds1 = cc.FlyWire(\n",
    "    label=\"FlyWire_RHS\",\n",
    "    cn_file=\"~/Downloads/syn_proof_analysis_filtered_767.feather\",\n",
    "    materialization=767,\n",
    ")\n",
    "ds2 = cc.FlyWire(\n",
    "    label=\"FlyWire_LHS\",\n",
    "    cn_file=\"~/Downloads/syn_proof_analysis_filtered_767.feather\",\n",
    "    materialization=767,\n",
    ")\n",
    "ds3 = cc.Hemibrain(\n",
    "    label=\"hemibrain\",\n",
    ")\n",
    "\n",
    "# Inspect what we generated\n",
    "ds1, ds2, ds3"
   ]
  },
  {
   "cell_type": "code",
   "execution_count": 3,
   "metadata": {},
   "outputs": [
    {
     "name": "stdout",
     "output_type": "stream",
     "text": [
      "Caching FlyWire annotations for materialization '767'... Done.\n",
      "Caching hemibrain annotations... Done.\n"
     ]
    },
    {
     "data": {
      "text/plain": [
       "class Hemibrain <label=hemibrain;neurons=2>"
      ]
     },
     "execution_count": 3,
     "metadata": {},
     "output_type": "execute_result"
    }
   ],
   "source": [
    "# Next we need to add neurons to each dataset\n",
    "# You can add them using fields (depending on the dataset this could be e.g.\n",
    "# type, super class or lineage) or using IDs\n",
    "ds1.add_neurons(\"hemibrain_type:IB022\", sides=\"right\")\n",
    "ds2.add_neurons(\"hemibrain_type:IB022\", sides=\"left\")\n",
    "ds3.add_neurons(\"type:IB022\", sides=\"right\")"
   ]
  },
  {
   "cell_type": "code",
   "execution_count": 4,
   "metadata": {},
   "outputs": [
    {
     "name": "stdout",
     "output_type": "stream",
     "text": [
      "Compiling connectivity vector for \"FlyWire_RHS\" (FlyWire) [1/3]\n",
      "Compiling connectivity vector for \"FlyWire_LHS\" (FlyWire) [2/3]\n",
      "Compiling connectivity vector for \"hemibrain\" (Hemibrain) [3/3]\n",
      "Using on average 59.6% of neurons' synapses.\n",
      "Worst case is keeping 49.7% of its synapses.\n",
      "Calulating cosine distances... Done.\n",
      "All done.\n"
     ]
    }
   ],
   "source": [
    "# Now combine these three datasets and cluster them\n",
    "cl = cc.Clustering([ds1, ds2, ds3]).compile()"
   ]
  },
  {
   "cell_type": "code",
   "execution_count": 5,
   "metadata": {},
   "outputs": [
    {
     "data": {
      "text/html": [
       "<div>\n",
       "<style scoped>\n",
       "    .dataframe tbody tr th:only-of-type {\n",
       "        vertical-align: middle;\n",
       "    }\n",
       "\n",
       "    .dataframe tbody tr th {\n",
       "        vertical-align: top;\n",
       "    }\n",
       "\n",
       "    .dataframe thead th {\n",
       "        text-align: right;\n",
       "    }\n",
       "</style>\n",
       "<table border=\"1\" class=\"dataframe\">\n",
       "  <thead>\n",
       "    <tr style=\"text-align: right;\">\n",
       "      <th></th>\n",
       "      <th>IBO22b_FlyWire_RHS</th>\n",
       "      <th>IBO22a_FlyWire_RHS</th>\n",
       "      <th>IBO22a_FlyWire_LHS</th>\n",
       "      <th>IBO22b_FlyWire_LHS</th>\n",
       "      <th>IB022_hemibrain</th>\n",
       "      <th>IB022_hemibrain</th>\n",
       "    </tr>\n",
       "  </thead>\n",
       "  <tbody>\n",
       "    <tr>\n",
       "      <th>720575940625205392</th>\n",
       "      <td>0.000000</td>\n",
       "      <td>0.113535</td>\n",
       "      <td>0.079884</td>\n",
       "      <td>0.091356</td>\n",
       "      <td>0.344597</td>\n",
       "      <td>0.381602</td>\n",
       "    </tr>\n",
       "    <tr>\n",
       "      <th>720575940625897572</th>\n",
       "      <td>0.113535</td>\n",
       "      <td>0.000000</td>\n",
       "      <td>0.044914</td>\n",
       "      <td>0.061322</td>\n",
       "      <td>0.281769</td>\n",
       "      <td>0.417775</td>\n",
       "    </tr>\n",
       "    <tr>\n",
       "      <th>720575940630344466</th>\n",
       "      <td>0.079884</td>\n",
       "      <td>0.044914</td>\n",
       "      <td>0.000000</td>\n",
       "      <td>0.063572</td>\n",
       "      <td>0.290912</td>\n",
       "      <td>0.397021</td>\n",
       "    </tr>\n",
       "    <tr>\n",
       "      <th>720575940655571617</th>\n",
       "      <td>0.091356</td>\n",
       "      <td>0.061322</td>\n",
       "      <td>0.063572</td>\n",
       "      <td>0.000000</td>\n",
       "      <td>0.322563</td>\n",
       "      <td>0.414131</td>\n",
       "    </tr>\n",
       "    <tr>\n",
       "      <th>976964834</th>\n",
       "      <td>0.344597</td>\n",
       "      <td>0.281769</td>\n",
       "      <td>0.290912</td>\n",
       "      <td>0.322563</td>\n",
       "      <td>0.000000</td>\n",
       "      <td>0.122988</td>\n",
       "    </tr>\n",
       "    <tr>\n",
       "      <th>1161459105</th>\n",
       "      <td>0.381602</td>\n",
       "      <td>0.417775</td>\n",
       "      <td>0.397021</td>\n",
       "      <td>0.414131</td>\n",
       "      <td>0.122988</td>\n",
       "      <td>0.000000</td>\n",
       "    </tr>\n",
       "  </tbody>\n",
       "</table>\n",
       "</div>"
      ],
      "text/plain": [
       "                    IBO22b_FlyWire_RHS  IBO22a_FlyWire_RHS  \\\n",
       "720575940625205392            0.000000            0.113535   \n",
       "720575940625897572            0.113535            0.000000   \n",
       "720575940630344466            0.079884            0.044914   \n",
       "720575940655571617            0.091356            0.061322   \n",
       "976964834                     0.344597            0.281769   \n",
       "1161459105                    0.381602            0.417775   \n",
       "\n",
       "                    IBO22a_FlyWire_LHS  IBO22b_FlyWire_LHS  IB022_hemibrain  \\\n",
       "720575940625205392            0.079884            0.091356         0.344597   \n",
       "720575940625897572            0.044914            0.061322         0.281769   \n",
       "720575940630344466            0.000000            0.063572         0.290912   \n",
       "720575940655571617            0.063572            0.000000         0.322563   \n",
       "976964834                     0.290912            0.322563         0.000000   \n",
       "1161459105                    0.397021            0.414131         0.122988   \n",
       "\n",
       "                    IB022_hemibrain  \n",
       "720575940625205392         0.381602  \n",
       "720575940625897572         0.417775  \n",
       "720575940630344466         0.397021  \n",
       "720575940655571617         0.414131  \n",
       "976964834                  0.122988  \n",
       "1161459105                 0.000000  "
      ]
     },
     "execution_count": 5,
     "metadata": {},
     "output_type": "execute_result"
    }
   ],
   "source": [
    "# To get the raw distances\n",
    "cl.dists_"
   ]
  },
  {
   "cell_type": "code",
   "execution_count": 6,
   "metadata": {},
   "outputs": [
    {
     "name": "stderr",
     "output_type": "stream",
     "text": [
      "/Users/philipps/Google Drive/Cloudbox/Github/cocoa/cocoa/cluster.py:612: UserWarning: The figure layout has changed to tight\n",
      "  plt.tight_layout()\n"
     ]
    },
    {
     "data": {
      "text/plain": [
       "<seaborn.matrix.ClusterGrid at 0x144397c70>"
      ]
     },
     "execution_count": 6,
     "metadata": {},
     "output_type": "execute_result"
    },
    {
     "data": {
      "image/png": "[encoded data removed]",
      "text/plain": [
       "<Figure size 720x720 with 5 Axes>"
      ]
     },
     "metadata": {
      "needs_background": "light"
     },
     "output_type": "display_data"
    }
   ],
   "source": [
    "# The `Clustering` has a bunch of useful methods for further analysis\n",
    "# The colors in the horizontal bar on top represent the individual datasets\n",
    "# The colors in the vertical bar on the left represent the fraction of connectivity\n",
    "# used\n",
    "cl.plot_clustermap(fontsize=8)"
   ]
  },
  {
   "cell_type": "code",
   "execution_count": 7,
   "metadata": {},
   "outputs": [
    {
     "data": {
      "text/html": [
       "<div>\n",
       "<style scoped>\n",
       "    .dataframe tbody tr th:only-of-type {\n",
       "        vertical-align: middle;\n",
       "    }\n",
       "\n",
       "    .dataframe tbody tr th {\n",
       "        vertical-align: top;\n",
       "    }\n",
       "\n",
       "    .dataframe thead th {\n",
       "        text-align: right;\n",
       "    }\n",
       "</style>\n",
       "<table border=\"1\" class=\"dataframe\">\n",
       "  <thead>\n",
       "    <tr style=\"text-align: right;\">\n",
       "      <th></th>\n",
       "      <th>id</th>\n",
       "      <th>label</th>\n",
       "      <th>dataset</th>\n",
       "      <th>cn_frac_used</th>\n",
       "      <th>dend_ix</th>\n",
       "      <th>cluster</th>\n",
       "    </tr>\n",
       "  </thead>\n",
       "  <tbody>\n",
       "    <tr>\n",
       "      <th>0</th>\n",
       "      <td>720575940625205392</td>\n",
       "      <td>IBO22b</td>\n",
       "      <td>FlyWire_RHS</td>\n",
       "      <td>0.497288</td>\n",
       "      <td>0</td>\n",
       "      <td>0</td>\n",
       "    </tr>\n",
       "    <tr>\n",
       "      <th>1</th>\n",
       "      <td>720575940655571617</td>\n",
       "      <td>IBO22b</td>\n",
       "      <td>FlyWire_LHS</td>\n",
       "      <td>0.595825</td>\n",
       "      <td>1</td>\n",
       "      <td>0</td>\n",
       "    </tr>\n",
       "    <tr>\n",
       "      <th>2</th>\n",
       "      <td>720575940625897572</td>\n",
       "      <td>IBO22a</td>\n",
       "      <td>FlyWire_RHS</td>\n",
       "      <td>0.669554</td>\n",
       "      <td>2</td>\n",
       "      <td>0</td>\n",
       "    </tr>\n",
       "    <tr>\n",
       "      <th>3</th>\n",
       "      <td>720575940630344466</td>\n",
       "      <td>IBO22a</td>\n",
       "      <td>FlyWire_LHS</td>\n",
       "      <td>0.670947</td>\n",
       "      <td>3</td>\n",
       "      <td>0</td>\n",
       "    </tr>\n",
       "    <tr>\n",
       "      <th>4</th>\n",
       "      <td>976964834</td>\n",
       "      <td>IB022</td>\n",
       "      <td>hemibrain</td>\n",
       "      <td>0.591274</td>\n",
       "      <td>4</td>\n",
       "      <td>0</td>\n",
       "    </tr>\n",
       "    <tr>\n",
       "      <th>5</th>\n",
       "      <td>1161459105</td>\n",
       "      <td>IB022</td>\n",
       "      <td>hemibrain</td>\n",
       "      <td>0.549240</td>\n",
       "      <td>5</td>\n",
       "      <td>0</td>\n",
       "    </tr>\n",
       "  </tbody>\n",
       "</table>\n",
       "</div>"
      ],
      "text/plain": [
       "                   id   label      dataset  cn_frac_used  dend_ix  cluster\n",
       "0  720575940625205392  IBO22b  FlyWire_RHS      0.497288        0        0\n",
       "1  720575940655571617  IBO22b  FlyWire_LHS      0.595825        1        0\n",
       "2  720575940625897572  IBO22a  FlyWire_RHS      0.669554        2        0\n",
       "3  720575940630344466  IBO22a  FlyWire_LHS      0.670947        3        0\n",
       "4           976964834   IB022    hemibrain      0.591274        4        0\n",
       "5          1161459105   IB022    hemibrain      0.549240        5        0"
      ]
     },
     "execution_count": 7,
     "metadata": {},
     "output_type": "execute_result"
    }
   ],
   "source": [
    "# Turn into table\n",
    "# Note that we're adding a column with a clustering where clusters are defined\n",
    "# by having to contain specimen from all datasets\n",
    "cl.to_table(clusters=cl.extract_homogeneous_clusters())"
   ]
  }
 ],
 "metadata": {
  "kernelspec": {
   "display_name": "Python 3",
   "language": "python",
   "name": "python3"
  },
  "language_info": {
   "codemirror_mode": {
    "name": "ipython",
    "version": 3
   },
   "file_extension": ".py",
   "mimetype": "text/x-python",
   "name": "python",
   "nbconvert_exporter": "python",
   "pygments_lexer": "ipython3",
   "version": "3.9.9"
  },
  "orig_nbformat": 4
 },
 "nbformat": 4,
 "nbformat_minor": 2
}
